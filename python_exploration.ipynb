{
 "cells": [
  {
   "cell_type": "markdown",
   "metadata": {},
   "source": [
    "## Python Interview Questions"
   ]
  },
  {
   "cell_type": "markdown",
   "metadata": {},
   "source": [
    "### The goal of this exercise is to explore and clean a typical client dataset with Python"
   ]
  },
  {
   "cell_type": "code",
   "execution_count": null,
   "metadata": {
    "collapsed": true
   },
   "outputs": [],
   "source": [
    "filename = 'sample_member_data.xlsx'"
   ]
  },
  {
   "cell_type": "markdown",
   "metadata": {},
   "source": [
    "#### 1. Load the data and examine its contents"
   ]
  },
  {
   "cell_type": "code",
   "execution_count": null,
   "metadata": {
    "collapsed": false
   },
   "outputs": [],
   "source": [
    "import numpy as np\n",
    "import pandas as pd\n",
    "df = pd.read_excel(\"C:\\\\Users\\\\sid\\\\Python\\\\Python\\\\python_exploration_data.xlsx\")"
   ]
  },
  {
   "cell_type": "code",
   "execution_count": null,
   "metadata": {
    "collapsed": false
   },
   "outputs": [],
   "source": [
    "print(df.head(3))"
   ]
  },
  {
   "cell_type": "code",
   "execution_count": null,
   "metadata": {
    "collapsed": false
   },
   "outputs": [],
   "source": [
    "print(df.tail(3))"
   ]
  },
  {
   "cell_type": "code",
   "execution_count": null,
   "metadata": {
    "collapsed": false
   },
   "outputs": [],
   "source": [
    "print(df.columns)"
   ]
  },
  {
   "cell_type": "code",
   "execution_count": null,
   "metadata": {
    "collapsed": false
   },
   "outputs": [],
   "source": [
    "df.describe()"
   ]
  },
  {
   "cell_type": "code",
   "execution_count": null,
   "metadata": {
    "collapsed": false
   },
   "outputs": [],
   "source": [
    "for index, row in df.iterrows():\n",
    "    print(index,row)"
   ]
  },
  {
   "cell_type": "markdown",
   "metadata": {},
   "source": [
    "#### 2. How many records do we have per state? How many per school?"
   ]
  },
  {
   "cell_type": "code",
   "execution_count": null,
   "metadata": {
    "collapsed": false
   },
   "outputs": [],
   "source": [
    "print(df['State'].value_counts())"
   ]
  },
  {
   "cell_type": "code",
   "execution_count": null,
   "metadata": {
    "collapsed": false
   },
   "outputs": [],
   "source": [
    "print(df['School 1'].value_counts())"
   ]
  },
  {
   "cell_type": "code",
   "execution_count": null,
   "metadata": {
    "collapsed": true
   },
   "outputs": [],
   "source": [
    "print(df['School 2'].value_counts())"
   ]
  },
  {
   "cell_type": "code",
   "execution_count": null,
   "metadata": {
    "collapsed": false
   },
   "outputs": [],
   "source": [
    "print(df['School 3'].value_counts())"
   ]
  },
  {
   "cell_type": "markdown",
   "metadata": {},
   "source": [
    "#### 3. Determine how many missing values you have in each field"
   ]
  },
  {
   "cell_type": "code",
   "execution_count": null,
   "metadata": {
    "collapsed": false
   },
   "outputs": [],
   "source": [
    "sum(pd.isnull(df['Region'])) "
   ]
  },
  {
   "cell_type": "code",
   "execution_count": null,
   "metadata": {
    "collapsed": false
   },
   "outputs": [],
   "source": [
    "sum(pd.isnull(df['State']))"
   ]
  },
  {
   "cell_type": "markdown",
   "metadata": {},
   "source": [
    "#### 4. How many bad emails are there? How do you define bad?"
   ]
  },
  {
   "cell_type": "code",
   "execution_count": null,
   "metadata": {
    "collapsed": false
   },
   "outputs": [],
   "source": [
    "import re\n",
    "pattern = re.compile(r\"(^[a-zA-Z0-9_.+-]+@[a-zA-Z0-9-]+\\.[a-zA-Z0-9-.]+$)\")\n",
    "df['ValidEmail'] = df['Email Address'].apply(lambda x: True if pattern.match(x) else False)\n",
    "print(df['ValidEmail'])"
   ]
  },
  {
   "cell_type": "markdown",
   "metadata": {},
   "source": [
    "#### 5. If you were inserting these into a AWS Redshift/Postgres database what table structure and data types would you use?"
   ]
  },
  {
   "cell_type": "code",
   "execution_count": null,
   "metadata": {
    "collapsed": true
   },
   "outputs": [],
   "source": [
    "CREATE TABLE voters_data\n",
    "( \n",
    "Region\t\t\t\t\t\t\tVARCHAR(40),\n",
    "Neighborhood_Leadership_Team\tVARCHAR(40),\n",
    "Date_Submitted\t\t\t\t\tDate \t   ,\n",
    "First\t\t\t\t\t\t\tVARCHAR(40),\n",
    "Last\t\t\t\t\t\t\tVARCHAR(40),\n",
    "Email_Address\t\t\t\t\tVARCHAR(40),\n",
    "Phone\t\t\t\t\t\t\tVARCHAR(40),\n",
    "Address\t\t\t\t\t\t\tVARCHAR(40),\n",
    "City\t\t\t\t\t\t\tVARCHAR(40),\n",
    "State\t\t\t\t\t\t\tVARCHAR(40),\n",
    "Zip\t\t\t\t\t\t\t\tVARCHAR(40),\n",
    "School_1\t\t\t\t\t\tVARCHAR(40),\n",
    "School_2\t\t\t\t\t\tVARCHAR(40),\n",
    "School_3\t\t\t\t\t\tVARCHAR(40),\n",
    "Status\t\t\t\t\t\t\tVARCHAR(40),\n",
    "Membership_Level\t\t\t\tVARCHAR(40),\n",
    "Events\t\t\t\t\t\t\tVARCHAR(40),\n",
    "Notes\t\t\t\t\t\t\tVARCHAR(400)\n",
    ")\n",
    "\n",
    "Dont have much information about data so dist-keys ans sort keys not included"
   ]
  },
  {
   "cell_type": "markdown",
   "metadata": {},
   "source": [
    "#### 6. Outline the steps you'd take to process 10,000 of these files and ingest them into a AWS Redshift database"
   ]
  },
  {
   "cell_type": "code",
   "execution_count": null,
   "metadata": {
    "collapsed": true
   },
   "outputs": [],
   "source": [
    "The files will be laoded in S3 bucket\n",
    "Load the data in Redshift using copy command \n",
    "opy customer from 's3://mybucket/mydata' \n",
    "iam_role 'arn:aws:iam::<>:role/<MyRedshiftRole>';"
   ]
  }
 ],
 "metadata": {
  "kernelspec": {
   "display_name": "Python 3",
   "language": "python",
   "name": "python3"
  },
  "language_info": {
   "codemirror_mode": {
    "name": "ipython",
    "version": 3
   },
   "file_extension": ".py",
   "mimetype": "text/x-python",
   "name": "python",
   "nbconvert_exporter": "python",
   "pygments_lexer": "ipython3",
   "version": "3.5.2"
  }
 },
 "nbformat": 4,
 "nbformat_minor": 2
}
